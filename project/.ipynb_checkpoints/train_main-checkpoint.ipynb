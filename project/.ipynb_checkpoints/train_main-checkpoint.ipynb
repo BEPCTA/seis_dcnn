{
 "cells": [
  {
   "cell_type": "code",
   "execution_count": 1,
   "metadata": {},
   "outputs": [
    {
     "name": "stdout",
     "output_type": "stream",
     "text": [
      "True\n"
     ]
    }
   ],
   "source": [
    "%reload_ext autoreload\n",
    "%autoreload 2\n",
    "import re\n",
    "import os, glob, datetime as dt\n",
    "import numpy as np\n",
    "import torch\n",
    "import torch.nn as nn\n",
    "from torch.nn.modules.loss import _Loss\n",
    "import torch.nn.init as init\n",
    "from torch.utils.data import DataLoader\n",
    "import torch.optim as optim\n",
    "from torch.optim.lr_scheduler import MultiStepLR\n",
    "from helpers import *\n",
    "import random\n",
    "#torch.set_default_dtype(torch.float64)\n",
    "cuda = torch.cuda.is_available()\n",
    "print(cuda)"
   ]
  },
  {
   "cell_type": "code",
   "execution_count": 2,
   "metadata": {},
   "outputs": [],
   "source": [
    "n_epoch = 50\n",
    "lr = 0.005\n",
    "batch_size = 32\n",
    "n_train_data = 1000 * batch_size # use all available training data\n",
    "data_dir = 'data/train'\n",
    "model = \"DnCNN\"\n",
    "save_dir = \"saved_models\""
   ]
  },
  {
   "cell_type": "code",
   "execution_count": 3,
   "metadata": {},
   "outputs": [],
   "source": [
    "class DnCNN(nn.Module):\n",
    "    def __init__(self, n_layers = 17, n_channels=64, image_channels = 1, use_bnorm = True, kernel_size = 3):\n",
    "        super(DnCNN, self).__init__()\n",
    "        kernel_size = 3\n",
    "        padding = 1\n",
    "        layers = []\n",
    "\n",
    "        layers.append(nn.Conv2d(in_channels=image_channels, out_channels=n_channels, \n",
    "                                kernel_size=kernel_size, padding=padding, bias=True))\n",
    "        layers.append(nn.ReLU(inplace=True))\n",
    "        for _ in range(n_layers - 2):\n",
    "            layers.append(nn.Conv2d(in_channels=n_channels, out_channels=n_channels, \n",
    "                                    kernel_size=kernel_size, padding=padding, bias=False))\n",
    "            layers.append(nn.BatchNorm2d(n_channels, eps=0.0001, momentum = 0.95))\n",
    "            layers.append(nn.ReLU(inplace=True))\n",
    "        layers.append(nn.Conv2d(in_channels=n_channels, out_channels=image_channels, \n",
    "                                kernel_size=kernel_size, padding=padding, bias=False))\n",
    "        self.dncnn = nn.Sequential(*layers)\n",
    "        self._initialize_weights()\n",
    "\n",
    "    def forward(self, x):\n",
    "        return self.dncnn(x)\n",
    "\n",
    "    def _initialize_weights(self):\n",
    "        for m in self.modules():\n",
    "            if isinstance(m, nn.Conv2d):\n",
    "                init.orthogonal_(m.weight)\n",
    "                \n",
    "                if m.bias is not None:\n",
    "                    init.constant_(m.bias, 0)\n",
    "            elif isinstance(m, nn.BatchNorm2d):\n",
    "                init.constant_(m.weight, 1)\n",
    "                init.constant_(m.bias, 0)\n",
    "        print('weights initialized')\n"
   ]
  },
  {
   "cell_type": "code",
   "execution_count": 4,
   "metadata": {},
   "outputs": [],
   "source": [
    "def findLastCheckpoint(save_dir):\n",
    "    file_list = glob.glob(os.path.join(save_dir, 'model_*.pth'))\n",
    "    if file_list:\n",
    "        epochs_exist = []\n",
    "        for file_ in file_list:\n",
    "            result = re.findall(\".*model_(.*).pth.*\", file_)\n",
    "            epochs_exist.append(int(result[0]))\n",
    "        initial_epoch = max(epochs_exist)\n",
    "    else:\n",
    "        initial_epoch = 0\n",
    "    return initial_epoch\n",
    "\n",
    "def log(e, l, t, r = 1):\n",
    "    out = \"epoch = {:2d}, loss = {:8.2f}, time = {:4d} seconds, rate = {:1.1f}\".\\\n",
    "    format(e, l, round(t.total_seconds()), r )\n",
    "    print(dt.datetime.now().strftime(\"%Y-%m-%d %H:%M:%S   \"), out)\n"
   ]
  },
  {
   "cell_type": "code",
   "execution_count": 5,
   "metadata": {},
   "outputs": [
    {
     "name": "stdout",
     "output_type": "stream",
     "text": [
      "weights initialized\n",
      "resuming by loading epoch 038\n",
      "\n"
     ]
    }
   ],
   "source": [
    "model = DnCNN()\n",
    "    \n",
    "initial_epoch = findLastCheckpoint(save_dir=save_dir)\n",
    "if initial_epoch > 1:\n",
    "    print('resuming by loading epoch %03d\\n' % (initial_epoch-1))\n",
    "  \n",
    "    if initial_epoch >= n_epoch:\n",
    "        print(\"training is done\")\n",
    "    else:\n",
    "        model = torch.load(os.path.join(save_dir, 'model_%03d.pth' % (initial_epoch-1)))\n",
    "model.train()\n",
    "criterion = nn.MSELoss(reduction='sum' )\n",
    "model = model.cuda()\n",
    "optimizer = optim.Adam(model.parameters(), lr = lr)\n",
    "scheduler = MultiStepLR(optimizer, milestones=[20, 30, 40], gamma=0.2)  # learning rates adjusting\n"
   ]
  },
  {
   "cell_type": "code",
   "execution_count": 9,
   "metadata": {},
   "outputs": [
    {
     "name": "stdout",
     "output_type": "stream",
     "text": [
      "(17666, 99, 99, 1)\n",
      "torch.Size([17666, 1, 99, 99])\n"
     ]
    }
   ],
   "source": [
    "data_dir = \"data/landmass1\"\n",
    "patch_size = 99\n",
    "from read_matlab import read_matlab\n",
    "xs = read_matlab(data_dir, patch_size, n_train_data)\n",
    "print(xs.shape)\n",
    "xs = torch.from_numpy(xs.transpose((0, 3, 1, 2)))\n",
    "print(xs.shape)"
   ]
  },
  {
   "cell_type": "code",
   "execution_count": 10,
   "metadata": {},
   "outputs": [
    {
     "name": "stdout",
     "output_type": "stream",
     "text": [
      "From epoch 30 to 40\n",
      "Using GPU ? True\n"
     ]
    }
   ],
   "source": [
    "print(\"From epoch {} to {}\".format(initial_epoch, n_epoch))\n",
    "print(\"Using GPU ?\", torch.cuda.is_available())"
   ]
  },
  {
   "cell_type": "code",
   "execution_count": 11,
   "metadata": {},
   "outputs": [
    {
     "name": "stdout",
     "output_type": "stream",
     "text": [
      "2020-01-22 03:26:37    epoch = 31, loss =  1802.82, time = 3126 seconds, rate = 0.6\n"
     ]
    },
    {
     "name": "stderr",
     "output_type": "stream",
     "text": [
      "/home/irina/anaconda3/envs/tfpytorch/lib/python3.7/site-packages/torch/serialization.py:292: UserWarning: Couldn't retrieve source code for container of type DnCNN. It won't be checked for correctness upon loading.\n",
      "  \"type \" + obj.__name__ + \". It won't be checked \"\n",
      "/home/irina/anaconda3/envs/tfpytorch/lib/python3.7/site-packages/torch/serialization.py:292: UserWarning: Couldn't retrieve source code for container of type Sequential. It won't be checked for correctness upon loading.\n",
      "  \"type \" + obj.__name__ + \". It won't be checked \"\n",
      "/home/irina/anaconda3/envs/tfpytorch/lib/python3.7/site-packages/torch/serialization.py:292: UserWarning: Couldn't retrieve source code for container of type Conv2d. It won't be checked for correctness upon loading.\n",
      "  \"type \" + obj.__name__ + \". It won't be checked \"\n",
      "/home/irina/anaconda3/envs/tfpytorch/lib/python3.7/site-packages/torch/serialization.py:292: UserWarning: Couldn't retrieve source code for container of type ReLU. It won't be checked for correctness upon loading.\n",
      "  \"type \" + obj.__name__ + \". It won't be checked \"\n",
      "/home/irina/anaconda3/envs/tfpytorch/lib/python3.7/site-packages/torch/serialization.py:292: UserWarning: Couldn't retrieve source code for container of type BatchNorm2d. It won't be checked for correctness upon loading.\n",
      "  \"type \" + obj.__name__ + \". It won't be checked \"\n"
     ]
    },
    {
     "name": "stdout",
     "output_type": "stream",
     "text": [
      "2020-01-22 04:18:08    epoch = 32, loss =   693.78, time = 3088 seconds, rate = 4.0\n",
      "2020-01-22 05:09:40    epoch = 33, loss =  1461.67, time = 3088 seconds, rate = 2.0\n",
      "2020-01-22 06:01:11    epoch = 34, loss =  1706.74, time = 3087 seconds, rate = 0.6\n",
      "2020-01-22 06:52:42    epoch = 35, loss =  1697.41, time = 3088 seconds, rate = 0.6\n",
      "2020-01-22 07:44:14    epoch = 36, loss =  1697.99, time = 3088 seconds, rate = 0.6\n",
      "2020-01-22 08:35:46    epoch = 37, loss =  1693.41, time = 3088 seconds, rate = 0.6\n",
      "2020-01-22 09:27:18    epoch = 38, loss =  1689.95, time = 3088 seconds, rate = 0.6\n",
      "2020-01-22 10:18:50    epoch = 39, loss =  1446.06, time = 3088 seconds, rate = 2.0\n",
      "2020-01-22 11:10:22    epoch = 40, loss =  1116.82, time = 3088 seconds, rate = 0.7\n"
     ]
    }
   ],
   "source": [
    "for epoch in range(initial_epoch, n_epoch):\n",
    "    r = random.sample([0.6, 0.7, 0.8, 2,3,4,5],1)[0]\n",
    "    DDataset = DownsampleDataset(xs, r) \n",
    "    DLoader = DataLoader(dataset=DDataset, num_workers=4, drop_last=True, batch_size=batch_size, shuffle=True)\n",
    "    epoch_loss = 0\n",
    "    start_time = dt.datetime.now()\n",
    "\n",
    "    for n_count, batch_yx in enumerate(DLoader):\n",
    "            optimizer.zero_grad()\n",
    "            batch_x = batch_yx[1].cuda()\n",
    "            batch_y = batch_yx[0].cuda()\n",
    "            loss = criterion(model(batch_y), batch_x)\n",
    "            epoch_loss += loss.item()\n",
    "            loss.backward()\n",
    "            optimizer.step()\n",
    "            \n",
    "    scheduler.step(epoch)  # adjust the learning rate\n",
    "    elapsed_time = dt.datetime.now() - start_time\n",
    "    log(epoch+1, epoch_loss/n_count, elapsed_time, r) \n",
    "    torch.save(model, os.path.join(save_dir, \"model_{:03d}.pth\".format(epoch+1)))\n"
   ]
  },
  {
   "cell_type": "code",
   "execution_count": 12,
   "metadata": {},
   "outputs": [
    {
     "name": "stdout",
     "output_type": "stream",
     "text": [
      "DnCNN(\n",
      "  (dncnn): Sequential(\n",
      "    (0): Conv2d(1, 64, kernel_size=(3, 3), stride=(1, 1), padding=(1, 1))\n",
      "    (1): ReLU(inplace=True)\n",
      "    (2): Conv2d(64, 64, kernel_size=(3, 3), stride=(1, 1), padding=(1, 1), bias=False)\n",
      "    (3): BatchNorm2d(64, eps=0.0001, momentum=0.95, affine=True, track_running_stats=True)\n",
      "    (4): ReLU(inplace=True)\n",
      "    (5): Conv2d(64, 64, kernel_size=(3, 3), stride=(1, 1), padding=(1, 1), bias=False)\n",
      "    (6): BatchNorm2d(64, eps=0.0001, momentum=0.95, affine=True, track_running_stats=True)\n",
      "    (7): ReLU(inplace=True)\n",
      "    (8): Conv2d(64, 64, kernel_size=(3, 3), stride=(1, 1), padding=(1, 1), bias=False)\n",
      "    (9): BatchNorm2d(64, eps=0.0001, momentum=0.95, affine=True, track_running_stats=True)\n",
      "    (10): ReLU(inplace=True)\n",
      "    (11): Conv2d(64, 64, kernel_size=(3, 3), stride=(1, 1), padding=(1, 1), bias=False)\n",
      "    (12): BatchNorm2d(64, eps=0.0001, momentum=0.95, affine=True, track_running_stats=True)\n",
      "    (13): ReLU(inplace=True)\n",
      "    (14): Conv2d(64, 64, kernel_size=(3, 3), stride=(1, 1), padding=(1, 1), bias=False)\n",
      "    (15): BatchNorm2d(64, eps=0.0001, momentum=0.95, affine=True, track_running_stats=True)\n",
      "    (16): ReLU(inplace=True)\n",
      "    (17): Conv2d(64, 64, kernel_size=(3, 3), stride=(1, 1), padding=(1, 1), bias=False)\n",
      "    (18): BatchNorm2d(64, eps=0.0001, momentum=0.95, affine=True, track_running_stats=True)\n",
      "    (19): ReLU(inplace=True)\n",
      "    (20): Conv2d(64, 64, kernel_size=(3, 3), stride=(1, 1), padding=(1, 1), bias=False)\n",
      "    (21): BatchNorm2d(64, eps=0.0001, momentum=0.95, affine=True, track_running_stats=True)\n",
      "    (22): ReLU(inplace=True)\n",
      "    (23): Conv2d(64, 64, kernel_size=(3, 3), stride=(1, 1), padding=(1, 1), bias=False)\n",
      "    (24): BatchNorm2d(64, eps=0.0001, momentum=0.95, affine=True, track_running_stats=True)\n",
      "    (25): ReLU(inplace=True)\n",
      "    (26): Conv2d(64, 64, kernel_size=(3, 3), stride=(1, 1), padding=(1, 1), bias=False)\n",
      "    (27): BatchNorm2d(64, eps=0.0001, momentum=0.95, affine=True, track_running_stats=True)\n",
      "    (28): ReLU(inplace=True)\n",
      "    (29): Conv2d(64, 64, kernel_size=(3, 3), stride=(1, 1), padding=(1, 1), bias=False)\n",
      "    (30): BatchNorm2d(64, eps=0.0001, momentum=0.95, affine=True, track_running_stats=True)\n",
      "    (31): ReLU(inplace=True)\n",
      "    (32): Conv2d(64, 64, kernel_size=(3, 3), stride=(1, 1), padding=(1, 1), bias=False)\n",
      "    (33): BatchNorm2d(64, eps=0.0001, momentum=0.95, affine=True, track_running_stats=True)\n",
      "    (34): ReLU(inplace=True)\n",
      "    (35): Conv2d(64, 64, kernel_size=(3, 3), stride=(1, 1), padding=(1, 1), bias=False)\n",
      "    (36): BatchNorm2d(64, eps=0.0001, momentum=0.95, affine=True, track_running_stats=True)\n",
      "    (37): ReLU(inplace=True)\n",
      "    (38): Conv2d(64, 64, kernel_size=(3, 3), stride=(1, 1), padding=(1, 1), bias=False)\n",
      "    (39): BatchNorm2d(64, eps=0.0001, momentum=0.95, affine=True, track_running_stats=True)\n",
      "    (40): ReLU(inplace=True)\n",
      "    (41): Conv2d(64, 64, kernel_size=(3, 3), stride=(1, 1), padding=(1, 1), bias=False)\n",
      "    (42): BatchNorm2d(64, eps=0.0001, momentum=0.95, affine=True, track_running_stats=True)\n",
      "    (43): ReLU(inplace=True)\n",
      "    (44): Conv2d(64, 64, kernel_size=(3, 3), stride=(1, 1), padding=(1, 1), bias=False)\n",
      "    (45): BatchNorm2d(64, eps=0.0001, momentum=0.95, affine=True, track_running_stats=True)\n",
      "    (46): ReLU(inplace=True)\n",
      "    (47): Conv2d(64, 1, kernel_size=(3, 3), stride=(1, 1), padding=(1, 1), bias=False)\n",
      "  )\n",
      ")\n"
     ]
    }
   ],
   "source": [
    "print(model)\n"
   ]
  },
  {
   "cell_type": "code",
   "execution_count": null,
   "metadata": {},
   "outputs": [],
   "source": []
  }
 ],
 "metadata": {
  "kernelspec": {
   "display_name": "Python [conda env:tfpytorch] *",
   "language": "python",
   "name": "conda-env-tfpytorch-py"
  },
  "language_info": {
   "codemirror_mode": {
    "name": "ipython",
    "version": 3
   },
   "file_extension": ".py",
   "mimetype": "text/x-python",
   "name": "python",
   "nbconvert_exporter": "python",
   "pygments_lexer": "ipython3",
   "version": "3.7.6"
  }
 },
 "nbformat": 4,
 "nbformat_minor": 2
}
