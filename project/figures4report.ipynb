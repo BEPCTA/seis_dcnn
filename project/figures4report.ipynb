{
 "cells": [
  {
   "cell_type": "code",
   "execution_count": null,
   "metadata": {},
   "outputs": [],
   "source": [
    "import glob\n",
    "import numpy as np\n",
    "from scipy.io import loadmat\n",
    "import matplotlib.pyplot as plt\n",
    "import numpy as np\n",
    "import math, random\n",
    "from helpers import gridInterpolation\n",
    "from helpers import mask\n",
    "from helpers import rmse\n",
    "from infer_dcnnCPU import *"
   ]
  },
  {
   "cell_type": "markdown",
   "metadata": {},
   "source": [
    "## SRME plot"
   ]
  },
  {
   "cell_type": "code",
   "execution_count": null,
   "metadata": {},
   "outputs": [],
   "source": [
    "matfile= \"data/validation/saltdome_0167.mat\"\n",
    "mat = loadmat(matfile)\n",
    "x0 = mat[\"img\"][:, :] "
   ]
  },
  {
   "cell_type": "code",
   "execution_count": null,
   "metadata": {},
   "outputs": [],
   "source": [
    "drmse = {}\n",
    "for r in [0.6, 0.7, 0.8, 2, 3, 4, 5]:\n",
    "    drmse[r] = []\n",
    "    \n",
    "for i in range(39):\n",
    "    model = \"saved_models/model_0{:02}.pth\".format(i+1)\n",
    "    print(model)  \n",
    "    for r in [0.6, 0.7, 0.8, 2, 3, 4, 5]:\n",
    "        m = mask(x0,r)\n",
    "        x1 = x0 * m\n",
    "        x2 = gridInterpolation(x1, m)\n",
    "        x3 = predict(x1, model)\n",
    "        drmse[r].append((rmse(x0,x1), rmse(x0,x3), rmse(x0, x2)))"
   ]
  },
  {
   "cell_type": "code",
   "execution_count": null,
   "metadata": {
    "scrolled": true
   },
   "outputs": [],
   "source": [
    "#print(len(drmse[2]))\n",
    "#a1 = sum([v[0] for v in drmse[0.6]])/len(drmse[2])\n",
    "#print(a1)\n",
    "\n",
    "#for i in [0.6, 0.7, 0.8, 2, 3, 4, 5]:\n",
    "#    a1 = [v[0] for v in drmse[i] if v[0] > 0]\n",
    "#    print(i , sum(a1) / len(a1))\n",
    "\n",
    "#for i in [0.6, 0.7, 0.8, 2, 3, 4, 5]:\n",
    "#    a1 = [v[1] for v in drmse[i][-6:]]\n",
    "#    print(i , sum(a1) / len(a1))\n",
    "    \n",
    "#for i in [0.6, 0.7, 0.8, 2, 3, 4, 5]:\n",
    "#    a1 = [v[2] for v in drmse[i] if v[2] > 0]\n",
    "#    print(i , sum(a1) / len(a1))\n",
    "\n",
    "err0 = [ 0.20, 0.17, 0.14, 0.22, 0.18, 0.16, 0.14]\n",
    "err1 = [ 0.09, 0.07, 0.06, 0.09, 0.07, 0.06, 0.05]\n",
    "err2 = [ 0.12, 0.10, 0.07, 0.09, 0.075,0.065, 0.06]\n",
    "\n",
    "binned_err = []\n",
    "err_cat =[\"60% random\",\"70% random\",\"80% random\",\"50% regular\",\"60% regular\",\"70% regular\",\"80% regular\"]\n",
    "binned_err.append(err0) \n",
    "binned_err.append(err2) \n",
    "binned_err.append(err1)\n",
    "    \n",
    "binned_err = np.array(binned_err)\n",
    "print(binned_err.shape)\n",
    "x_pos = np.array([i+1 for i in range(binned_err.shape[1])])\n",
    "bar_w = 0.16\n",
    "colors = [\"purple\", \"blue\", \"green\"]\n",
    "labels = [\"RMSE for downsampled input\", \"RMSE for benchmark interpolation\", \"RMSE for DCNN restoration\"]\n",
    "fig, ax = plt.subplots(figsize = (16,8))\n",
    "for i, e in enumerate(binned_err):\n",
    "    bar_pos = x_pos - 3*bar_w/2 + (i+0.5)* bar_w\n",
    "    plt.bar(bar_pos, e, bar_w, align =\"center\", linewidth = 1, color=colors[i], alpha=0.7, label =labels[i])\n",
    "\n",
    "plt.xticks(x_pos, err_cat, rotation=40)\n",
    "plt.legend()\n",
    "\n",
    "fig.savefig('../../report/hist_metrics.png', bbox_inches='tight')\n"
   ]
  },
  {
   "cell_type": "code",
   "execution_count": null,
   "metadata": {},
   "outputs": [],
   "source": [
    "fig, ax = plt.subplots(figsize = (16,8))\n",
    "for key, value in drmse.items():\n",
    "    v1 = [v[0] for v in value] # input\n",
    "    v2 = [v[1] for v in value]  #predicted\n",
    "    v3 = [v[2] for v in value]  #interrpolated\n",
    "    \n",
    "#    ax.scatter([i for i in range(len(v1))],v1, label = str(key))\n",
    "#    ax.scatter([i for i in range(len(v2))],v2, label = str(key))\n",
    "    ax.scatter([i for i in range(len(v3))],v3, label = str(key))\n",
    "    \n",
    "ax.legend(loc = \"upper right\")\n",
    "\n",
    "plt.show()"
   ]
  },
  {
   "cell_type": "markdown",
   "metadata": {},
   "source": [
    "## Randomly select 16 images and display them tightly"
   ]
  },
  {
   "cell_type": "code",
   "execution_count": null,
   "metadata": {
    "scrolled": true
   },
   "outputs": [],
   "source": [
    "n = 16\n",
    "file_list = glob.glob('data/landmass1/*.mat')\n",
    "fs_list = glob.glob('data/landmass1/s*.mat')\n",
    "fh_list = glob.glob('data/landmass1/h*.mat')\n",
    "fc_list = glob.glob('data/landmass1/c*.mat')\n",
    "ff_list = glob.glob('data/landmass1/f*.mat')\n",
    "fa_list = random.sample(fs_list,4)\n",
    "fa_list.extend(random.sample(fh_list,4))\n",
    "fa_list.extend(random.sample(fc_list,4))\n",
    "fa_list.extend(random.sample(ff_list,4))\n",
    "file_to_use = random.sample(fa_list,n)\n"
   ]
  },
  {
   "cell_type": "code",
   "execution_count": null,
   "metadata": {},
   "outputs": [],
   "source": [
    "files_to_use = [\"data/landmass1/horizon_6243.mat\" ,\"data/landmass1/chaotic_4720.mat\" ,\n",
    "                \"data/landmass1/saltdome_1627.mat\",\"data/landmass1/fault_0228.mat\"   ,\n",
    "                \"data/landmass1/chaotic_1418.mat\" ,\"data/landmass1/saltdome_0409.mat\",\n",
    "                \"data/landmass1/horizon_8606.mat\" ,\"data/landmass1/saltdome_0333.mat\",\n",
    "                \"data/landmass1/horizon_8503.mat\" ,\"data/landmass1/fault_0094.mat\"   ,\n",
    "                \"data/landmass1/chaotic_4153.mat\" ,\"data/landmass1/chaotic_3822.mat\" ,\n",
    "                \"data/landmass1/horizon_2666.mat\" ,\"data/landmass1/fault_0032.mat\"   ,\n",
    "                \"data/landmass1/fault_0666.mat\"   ,\"data/landmass1/saltdome_0937.mat\"]\n",
    "\n",
    "fig = plt.figure(figsize = (16,16))\n",
    "x1 = [] \n",
    "for i in range(n):\n",
    "    #print(files_to_use[i])\n",
    "    mat = loadmat(files_to_use[i])\n",
    "    x = mat[\"img\"][:, :] \n",
    "    x1.append(x)\n",
    "    fig.add_subplot(4,4,i+1).imshow(x, vmin=-1, vmax=1, cmap=\"gray\")\n",
    "    fig.add_subplot(4,4,i+1).axis('off')\n",
    "plt.show()\n",
    "#fig.savefig('report/fig_analysis1.png', bbox_inches='tight')"
   ]
  },
  {
   "cell_type": "markdown",
   "metadata": {},
   "source": [
    "## Apply downsampling as for training"
   ]
  },
  {
   "cell_type": "code",
   "execution_count": null,
   "metadata": {},
   "outputs": [],
   "source": [
    "fig = plt.figure(figsize = (16,16))\n",
    "x2 = []\n",
    "mm = []\n",
    "for i in range(n):\n",
    "    r = random.sample([0.6, 0.7, 2,3],1)[0]\n",
    "    x = x1[i] \n",
    "    m = mask(x, r)\n",
    "    x = x * m\n",
    "    x2.append(x)\n",
    "    mm.append(m)\n",
    "    fig.add_subplot(4,4,i+1).imshow(x, vmin=-1, vmax=1, cmap=\"gray\")\n",
    "    fig.add_subplot(4,4,i+1).axis('off')\n",
    "plt.show()\n",
    "#fig.savefig('report/report/fig_analysis2.png', bbox_inches='tight')"
   ]
  },
  {
   "cell_type": "markdown",
   "metadata": {},
   "source": [
    "## Generate benchmark"
   ]
  },
  {
   "cell_type": "code",
   "execution_count": null,
   "metadata": {},
   "outputs": [],
   "source": [
    "x3 =[]\n",
    "fig = plt.figure(figsize = (16,16))\n",
    "for i in range(n):\n",
    "    r = random.sample([0.6, 0.7, 2,3],1)[0]\n",
    "    x = gridInterpolation(x2[i], mm[i])\n",
    "    x3.append(x)\n",
    "    fig.add_subplot(4,4,i+1).imshow(x, vmin=-1, vmax=1, cmap=\"gray\")\n",
    "    fig.add_subplot(4,4,i+1).axis('off')\n",
    "plt.show()\n",
    "#fig.savefig('report/report/fig_analysis3.png', bbox_inches='tight')\n"
   ]
  },
  {
   "cell_type": "markdown",
   "metadata": {},
   "source": [
    "## Generate two high res images for a figure about DCNN"
   ]
  },
  {
   "cell_type": "code",
   "execution_count": null,
   "metadata": {
    "scrolled": true
   },
   "outputs": [],
   "source": [
    "matfile= \"data/validation/saltdome_0167.mat\"\n",
    "mat = loadmat(matfile)\n",
    "x = mat[\"img\"][:, :150] \n",
    "m = mask(x,0.5)\n",
    "fig = plt.figure(figsize = (6,6))\n",
    "fig.add_subplot(1,1,1).imshow(x, vmin=-1, vmax=1, cmap=\"gray\")\n",
    "fig.add_subplot(1,1,1).axis('off')\n",
    "plt.show()\n",
    "#fig.savefig('report/report/fig_analysis6.png', bbox_inches='tight')\n",
    "\n",
    "fig = plt.figure(figsize = (6,6))\n",
    "fig.add_subplot(1,1,1).imshow(x*m, vmin=-1, vmax=1, cmap=\"gray\")\n",
    "fig.add_subplot(1,1,1).axis('off')\n",
    "plt.show()\n",
    "#fig.savefig('report/report/fig_analysis5.png', bbox_inches='tight')\n",
    "\n"
   ]
  },
  {
   "cell_type": "markdown",
   "metadata": {},
   "source": [
    "## Generate infered images for validation"
   ]
  },
  {
   "cell_type": "code",
   "execution_count": null,
   "metadata": {},
   "outputs": [],
   "source": [
    "trained_model = \"saved_models/model_040.pth\"\n",
    "f1 = \"data/landmass1/saltdome_1261.mat\"\n",
    "matfile= \"data/validation/saltdome_0167.mat\"\n",
    "mat = loadmat(matfile)\n",
    "x0 = mat[\"img\"][:, :] "
   ]
  },
  {
   "cell_type": "code",
   "execution_count": null,
   "metadata": {},
   "outputs": [],
   "source": [
    "m = mask(x0, 0.5)\n",
    "x1 = x0 * m\n",
    "x2 = gridInterpolation(x1, m)\n",
    "x3 = predict(x1, trained_model)\n",
    "fig = plt.figure(figsize = (16,16))\n",
    "plt.subplot(421)\n",
    "plt.imshow(x0, vmin=-1, vmax=1, cmap=\"gray\")\n",
    "plt.title('GROUND TRUTH')\n",
    "plt.axis('off')\n",
    "\n",
    "plt.subplot(422)\n",
    "plt.imshow(m, vmin=-1, vmax=1, cmap=\"gray\")\n",
    "plt.title(\"DOWNSAMPLING MASK 50%\")\n",
    "plt.axis('off')\n",
    "\n",
    "plt.subplot(423)   \n",
    "plt.imshow(x1, vmin=-1, vmax=1, cmap=\"gray\")\n",
    "plt.title('INPUT')\n",
    "plt.axis(\"off\")\n",
    "\n",
    "plt.subplot(424)\n",
    "plt.imshow(x0 - x1, vmin=-1, vmax=1, cmap=\"gray\")\n",
    "plt.title(\"WHAT WAS REMOVED\")\n",
    "plt.axis('off')\n",
    "\n",
    "plt.subplot(425)   \n",
    "plt.imshow(x3, vmin=-1, vmax=1, cmap=\"gray\")\n",
    "plt.title('RESTORED BY DCNN')\n",
    "plt.axis(\"off\")\n",
    "\n",
    "plt.subplot(426)\n",
    "plt.imshow(x2, vmin=-1, vmax=1, cmap=\"gray\")\n",
    "plt.title(\"INTERPOLATED WITH SCIPY\")\n",
    "plt.axis(\"off\")\n",
    "\n",
    "plt.subplot(427)\n",
    "plt.imshow(x0 - x3, vmin=-1, vmax=1, cmap =\"gray\")\n",
    "plt.title(\"(GROUND TRUTH) - (RESTORED BY DCNN)\")\n",
    "plt.axis(\"off\")\n",
    "\n",
    "plt.subplot(428)\n",
    "plt.imshow(x0 - x2, vmin=-1, vmax=1, cmap=\"gray\")\n",
    "plt.title(\"(GROUND TRUTH) - (INTERPOLATED WITH SCIPY)\")\n",
    "plt.axis('off')\n",
    "\n",
    "plt.show()\n",
    "#fig.savefig('report/report/fig_result7.png', bbox_inches='tight')"
   ]
  },
  {
   "cell_type": "code",
   "execution_count": null,
   "metadata": {},
   "outputs": [],
   "source": [
    "n = 64\n",
    "file_list = glob.glob('data/landmass1/*.mat')\n",
    "fs_list = glob.glob('data/landmass1/s*.mat')\n",
    "fh_list = glob.glob('data/landmass1/h*.mat')\n",
    "fc_list = glob.glob('data/landmass1/c*.mat')\n",
    "ff_list = glob.glob('data/landmass1/f*.mat')\n",
    "fa_list = random.sample(fs_list,16)\n",
    "fa_list.extend(random.sample(fh_list,16))\n",
    "fa_list.extend(random.sample(fc_list,16))\n",
    "fa_list.extend(random.sample(ff_list,16))\n",
    "#for f in fa_list:\n",
    "    # print(f)\n",
    "    #!cp $f submit/project/data/landmass1/."
   ]
  },
  {
   "cell_type": "code",
   "execution_count": null,
   "metadata": {},
   "outputs": [],
   "source": []
  }
 ],
 "metadata": {
  "kernelspec": {
   "display_name": "Python [conda env:tfpytorch] *",
   "language": "python",
   "name": "conda-env-tfpytorch-py"
  },
  "language_info": {
   "codemirror_mode": {
    "name": "ipython",
    "version": 3
   },
   "file_extension": ".py",
   "mimetype": "text/x-python",
   "name": "python",
   "nbconvert_exporter": "python",
   "pygments_lexer": "ipython3",
   "version": "3.7.6"
  }
 },
 "nbformat": 4,
 "nbformat_minor": 2
}
